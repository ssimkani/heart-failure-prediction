{
 "cells": [
  {
   "cell_type": "markdown",
   "id": "3f5bd108",
   "metadata": {},
   "source": [
    "**Model Creation**"
   ]
  }
 ],
 "metadata": {
  "kernelspec": {
   "display_name": "env",
   "language": "python",
   "name": "python3"
  },
  "language_info": {
   "name": "python",
   "version": "3.13.1"
  }
 },
 "nbformat": 4,
 "nbformat_minor": 5
}
