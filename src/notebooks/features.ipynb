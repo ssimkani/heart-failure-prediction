{
 "cells": [
  {
   "cell_type": "markdown",
   "id": "5a5373d1",
   "metadata": {},
   "source": [
    "**Creating New Features**"
   ]
  }
 ],
 "metadata": {
  "kernelspec": {
   "display_name": "env",
   "language": "python",
   "name": "python3"
  },
  "language_info": {
   "name": "python",
   "version": "3.13.1"
  }
 },
 "nbformat": 4,
 "nbformat_minor": 5
}
